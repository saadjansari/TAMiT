{
 "cells": [
  {
   "cell_type": "code",
   "execution_count": 81,
   "id": "periodic-polyester",
   "metadata": {},
   "outputs": [],
   "source": [
    "from pathlib import Path\n",
    "from matplotlib import pyplot as plt\n",
    "import numpy as np\n",
    "import scipy.io as spio\n",
    "import random\n",
    "import pandas as pd\n",
    "import seaborn as sns\n",
    "import numpy as np\n",
    "import colorsys\n",
    "import random"
   ]
  },
  {
   "cell_type": "code",
   "execution_count": 82,
   "id": "offensive-wyoming",
   "metadata": {},
   "outputs": [
    {
     "data": {
      "text/plain": [
       "PosixPath('/Users/saadjansari/Documents/Projects/ImageAnalysis/SingleCell/Results/Paper/byeast')"
      ]
     },
     "execution_count": 82,
     "metadata": {},
     "output_type": "execute_result"
    }
   ],
   "source": [
    "mainpath = Path('/Users/saadjansari/Documents/Projects/ImageAnalysis/SingleCell/Results/Paper/byeast')\n",
    "mainpath.resolve()"
   ]
  },
  {
   "cell_type": "code",
   "execution_count": 83,
   "id": "simple-warner",
   "metadata": {},
   "outputs": [],
   "source": [
    "# Find all dydata.mat files\n",
    "path_mats = list( mainpath.glob('*/dydata.mat') )\n",
    "\n",
    "# Initialize lifetimes and lengths arrays\n",
    "tau = []\n",
    "lens = []\n",
    "lens_err = []\n",
    "times = []\n",
    "amps = []\n",
    "amps_err = []\n",
    "lens_mean = []\n",
    "amps_mean = []\n",
    "\n",
    "# Loop over all dynamic feature files\n",
    "for pth in path_mats:\n",
    "    # Load mat file\n",
    "    mat_contents = spio.loadmat(pth, squeeze_me=True)\n",
    "\n",
    "    assert( len(lens) == len(tau) )\n",
    "    assert( len(lens) == len(lens_err) )\n",
    "    assert( len(lens) == len(amps) )\n",
    "    assert( len(lens) == len(amps_err) )\n",
    "    assert( len(lens) == len(times) )\n",
    "        \n",
    "    # Concatenate data\n",
    "    if type(mat_contents['tau']) == np.ndarray:\n",
    "\n",
    "        for idx in np.arange( len( mat_contents['tau'])):\n",
    "            tau.append( mat_contents['tau'][idx] )\n",
    "            lens.append( mat_contents['lens'][idx])\n",
    "            lens_err.append( mat_contents['lens_err'][idx])\n",
    "            amps.append( mat_contents['amp'][idx] )\n",
    "            amps_err.append( mat_contents['amp_err'][idx] )\n",
    "            times.append( mat_contents['times'][idx] )\n",
    "            lens_mean.append( np.mean( mat_contents['lens'][idx]))\n",
    "            amps_mean.append( np.mean( mat_contents['amp'][idx]))\n",
    "    else:\n",
    "        tau.append( mat_contents['tau'] )\n",
    "        lens.append( mat_contents['lens'])\n",
    "        lens_err.append( mat_contents['lens_err'])\n",
    "        amps.append( mat_contents['amp'] )\n",
    "        amps_err.append( mat_contents['amp_err'] )\n",
    "        times.append( mat_contents['times'] )\n",
    "        lens_mean.append( np.mean( mat_contents['lens']))\n",
    "        amps_mean.append( np.mean( mat_contents['amp']))\n",
    "        \n",
    "    assert( len(lens) == len(tau) )\n",
    "    assert( len(lens) == len(lens_err) )\n",
    "    assert( len(lens) == len(amps) )\n",
    "    assert( len(lens) == len(amps_err) )\n",
    "    assert( len(lens) == len(times) )"
   ]
  },
  {
   "cell_type": "code",
   "execution_count": 96,
   "id": "unsigned-country",
   "metadata": {},
   "outputs": [
    {
     "data": {
      "text/plain": [
       "[Text(0, 0.5, 'length ($\\\\mu m$)'), (-0.1, 4.0)]"
      ]
     },
     "execution_count": 96,
     "metadata": {},
     "output_type": "execute_result"
    },
    {
     "data": {
      "image/png": "[encoded data removed]",
      "text/plain": [
       "<Figure size 576x216 with 1 Axes>"
      ]
     },
     "metadata": {
      "needs_background": "light"
     },
     "output_type": "display_data"
    },
    {
     "data": {
      "image/png": "[encoded data removed]",
      "text/plain": [
       "<Figure size 864x360 with 2 Axes>"
      ]
     },
     "metadata": {
      "needs_background": "light"
     },
     "output_type": "display_data"
    }
   ],
   "source": [
    "def get_len(v):\n",
    "    if type(v) == np.ndarray:\n",
    "        return len(v)\n",
    "    else:\n",
    "        return 1\n",
    "\n",
    "fig, ax = plt.subplots(figsize=(8,3))\n",
    "lens = sorted( lens, key=get_len, reverse=True)\n",
    "times = sorted( times, key=get_len, reverse=True)\n",
    "\n",
    "for idx2 in random.sample( range( len(times)), k=8):\n",
    "    ax.plot( times[idx2]-times[idx2][0], lens[idx2], \n",
    "                 ls='', marker='s', ms=6, alpha=0.8)\n",
    "ax.set(xlabel = 'time (s)')\n",
    "ax.set(ylabel = r'length ($\\mu m$)')\n",
    "\n",
    "fig, axs = plt.subplots(2,1,figsize=(12,5), sharex=True)\n",
    "lens = sorted( lens, key=get_len, reverse=True)\n",
    "times = sorted( times, key=get_len, reverse=True)\n",
    "\n",
    "for idx2 in [0,7,2,5]:\n",
    "    axs[0].plot( times[idx2], lens[idx2], \n",
    "                 ls='', marker='s', ms=6, linewidth=1,alpha=1.0, mfc='none')\n",
    "for idx2 in [1,6,3,4]:\n",
    "    axs[1].plot( times[idx2], lens[idx2], \n",
    "                 ls='', marker='s', ms=6, linewidth=1,alpha=1.0, mfc='none')\n",
    "axs[1].set(xlabel = 'time (a.u)')\n",
    "axs[0].set(ylabel = r'length ($\\mu m$)', ylim=[-0.1, 4.0])\n",
    "axs[1].set(ylabel = r'length ($\\mu m$)', ylim=[-0.1, 4.0])"
   ]
  },
  {
   "cell_type": "code",
   "execution_count": 84,
   "id": "desperate-philosophy",
   "metadata": {},
   "outputs": [
    {
     "data": {
      "text/plain": [
       "[array([0.87554824, 1.92804466, 1.52731175, 1.9608575 , 2.44436262,\n",
       "        1.69103823, 2.74489609, 2.40045455, 1.77293365, 1.61668173]),\n",
       " array([1.1461033 , 1.11878576, 1.05177283, 1.74216175, 1.67042014,\n",
       "        1.26494066, 2.25147272, 1.53832518, 1.91143749, 2.59802986,\n",
       "        2.39263517, 2.89925991, 2.15381369, 3.08488731, 3.33569894,\n",
       "        1.98263247, 1.61885084, 1.31320452, 1.64571055, 1.56069989,\n",
       "        1.34599196, 1.68957612, 1.42496025]),\n",
       " array([1.53331734, 1.72237515, 2.76516823, 1.87641234, 2.1262682 ,\n",
       "        2.03316788, 2.01639367, 2.20309248, 2.18675149, 2.33310853,\n",
       "        1.74090016, 1.30741612, 1.62567312]),\n",
       " array([0.46063841, 0.73382845, 1.23574711,        nan,        nan,\n",
       "        1.39758434, 1.69842026, 2.31059521]),\n",
       " array([0.85447069, 1.29404522, 1.7650233 , 2.32299125, 1.89377932,\n",
       "        1.7624832 , 3.12285421, 1.97072571, 2.29814225, 2.01187925,\n",
       "        1.92058643, 2.98466462, 2.36624211, 2.84895741, 2.41470064,\n",
       "        3.01397631, 2.46780822, 2.53764632, 2.06967893, 2.02631848,\n",
       "               nan, 1.5432699 , 1.64459654, 2.0051674 , 1.87218523,\n",
       "        2.03438377, 2.31239553, 2.53415003, 2.62665624, 2.58297092,\n",
       "        2.84932264, 2.77681116, 2.7824021 , 3.18786579, 3.22453858,\n",
       "        2.68789536, 2.86877112, 2.25802498, 2.82652444]),\n",
       " array([1.24306501, 1.1886378 , 1.44910916, 2.42609015, 2.06214027,\n",
       "        2.00690127, 2.35568054, 1.62323788, 1.10560961, 1.60110768]),\n",
       " array([1.13334215, 1.10483663, 1.47503646, 1.28763682, 0.61807227,\n",
       "        1.03534632, 1.48496104, 1.15001475, 1.77013841, 1.888867  ,\n",
       "        1.65233289]),\n",
       " array([1.10664213, 2.17332044, 1.67071333, 1.27834831, 1.66461784,\n",
       "        1.40933529, 3.17964276, 2.38024836, 1.94530206, 2.20142016,\n",
       "        2.15752811, 3.28694006, 2.03304994, 2.08466048, 2.28601264,\n",
       "        1.48020749, 1.59262244, 1.74154787, 2.85668618, 2.0487838 ,\n",
       "        2.33584364, 1.79702101, 1.74652924, 1.2518782 ])]"
      ]
     },
     "execution_count": 84,
     "metadata": {},
     "output_type": "execute_result"
    }
   ],
   "source": [
    "lens"
   ]
  },
  {
   "cell_type": "code",
   "execution_count": null,
   "id": "discrete-insulin",
   "metadata": {},
   "outputs": [],
   "source": []
  }
 ],
 "metadata": {
  "kernelspec": {
   "display_name": "Python 3",
   "language": "python",
   "name": "python3"
  },
  "language_info": {
   "codemirror_mode": {
    "name": "ipython",
    "version": 3
   },
   "file_extension": ".py",
   "mimetype": "text/x-python",
   "name": "python",
   "nbconvert_exporter": "python",
   "pygments_lexer": "ipython3",
   "version": "3.9.1"
  }
 },
 "nbformat": 4,
 "nbformat_minor": 5
}
