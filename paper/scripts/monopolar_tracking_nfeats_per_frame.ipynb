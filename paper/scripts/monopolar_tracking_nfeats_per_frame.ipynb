{
 "cells": [
  {
   "cell_type": "code",
   "execution_count": 1,
   "metadata": {},
   "outputs": [],
   "source": [
    "from pathlib import Path\n",
    "from matplotlib import pyplot as plt\n",
    "import numpy as np\n",
    "import scipy.io as spio\n",
    "import random\n",
    "import pandas as pd\n",
    "import seaborn as sns\n",
    "import numpy as np\n",
    "import colorsys\n",
    "import random\n",
    "import csv\n",
    "\n",
    "SMALL_SIZE = 14\n",
    "MEDIUM_SIZE = 16\n",
    "BIGGER_SIZE = 20\n",
    "\n",
    "plt.rc('font', size=SMALL_SIZE)          # controls default text sizes\n",
    "plt.rc('axes', titlesize=SMALL_SIZE)     # fontsize of the axes title\n",
    "plt.rc('axes', labelsize=SMALL_SIZE)    # fontsize of the x and y labels\n",
    "plt.rc('xtick', labelsize=SMALL_SIZE)    # fontsize of the tick labels\n",
    "plt.rc('ytick', labelsize=SMALL_SIZE)    # fontsize of the tick labels\n",
    "plt.rc('legend', fontsize=SMALL_SIZE)    # legend fontsize\n",
    "plt.rc('figure', titlesize=BIGGER_SIZE)  # fontsize of the figure title\n",
    "\n",
    "\n",
    "# Get N distinguisable colors\n",
    "def _get_colors(num_colors):\n",
    "    colors=[]\n",
    "    for i in np.arange(0., 360., 360. / num_colors):\n",
    "        hue = i/360.\n",
    "        lightness = (50 + np.random.rand() * 10)/100.\n",
    "        saturation = (90 + np.random.rand() * 10)/100.\n",
    "        colors.append(colorsys.hls_to_rgb(hue, lightness, saturation))\n",
    "    return colors"
   ]
  },
  {
   "cell_type": "code",
   "execution_count": 2,
   "metadata": {},
   "outputs": [],
   "source": [
    "mainpath = Path('/Users/saadjansari/Documents/Projects/ImageAnalysis/SingleCell/Results/Paper/fig5/monopolar')\n",
    "mainpath.resolve()\n",
    "strain_names = ['WT','klp6D', 'alp14D', 'cls1-36']\n",
    "foldnames = ['wt', 'klp6d', 'alp14d', 'cls1']\n",
    "\n",
    "df = pd.DataFrame()\n",
    "df['name'] = strain_names\n",
    "df['path'] = [ mainpath / relpath for relpath in foldnames]\n",
    "\n",
    "num_strains = df.shape[0]\n",
    "cols = _get_colors(num_strains)"
   ]
  },
  {
   "cell_type": "code",
   "execution_count": 3,
   "metadata": {},
   "outputs": [],
   "source": [
    "# Load n feat per frame csv files\n",
    "# Add all values to a single list\n",
    "feats_per_frame_all = []\n",
    "for idx in np.arange(num_strains):\n",
    "    \n",
    "    # Find all dydata.mat files\n",
    "    path_csv = list( df.path[idx].glob('*/nfeats_per_frame.csv') )\n",
    "    \n",
    "    feats_per_frame = np.zeros((0,))\n",
    "    for pth in path_csv:\n",
    "        a = np.genfromtxt(pth, dtype=int, delimiter=',')\n",
    "        feats_per_frame = np.concatenate( (feats_per_frame, a) );\n",
    "    \n",
    "    feats_per_frame_all.append( feats_per_frame.tolist() )\n",
    "df['nfeats_per_frame'] = feats_per_frame_all"
   ]
  },
  {
   "cell_type": "code",
   "execution_count": 26,
   "metadata": {},
   "outputs": [
    {
     "data": {
      "image/png": "[encoded data removed]",
      "text/plain": [
       "<Figure size 360x270 with 1 Axes>"
      ]
     },
     "metadata": {
      "needs_background": "light"
     },
     "output_type": "display_data"
    }
   ],
   "source": [
    "mts_p_frame = []\n",
    "strain = []\n",
    "dff = pd.DataFrame()\n",
    "for idx in range(num_strains):\n",
    "    nft = df.nfeats_per_frame[idx]\n",
    "    for val in nft:\n",
    "        mts_p_frame.append(val)\n",
    "        strain.append(strain_names[idx])\n",
    "dff['Microtubules Per Frame'] = mts_p_frame\n",
    "dff['Strain'] = strain\n",
    "\n",
    "#colors\n",
    "my_pal = {\"WT\": cols[0], \"klp6D\": cols[1], \"alp14D\":cols[2], \"cls1-36\":cols[3]}\n",
    "\n",
    "# Box plot\n",
    "meanprops={\"marker\":\"o\",\n",
    "                       \"markerfacecolor\":\"white\", \n",
    "                       \"markeredgecolor\":\"black\",\n",
    "                      \"markersize\":\"10\"}\n",
    "fig,ax = plt.subplots(figsize=(5,3.75))\n",
    "ax = sns.boxplot(x=dff['Strain'], y=dff['Microtubules Per Frame'], linewidth=2, saturation=0.7, \n",
    "                 fliersize=0, showmeans=True, meanprops=meanprops, palette=my_pal)\n",
    "# ax.set(\n",
    "#     xlabel='Strain', \n",
    "#     ylabel='Microtubules per Frame',\n",
    "#     ylim=[-0.5,10])\n",
    "\n",
    "# plt.xticks(plt.xticks()[0], strain_names)\n",
    "plt.tight_layout()\n",
    "plt.savefig('/Users/saadjansari/Desktop/monopolar_numMT_strain.pdf')"
   ]
  },
  {
   "cell_type": "code",
   "execution_count": 15,
   "metadata": {},
   "outputs": [
    {
     "data": {
      "text/plain": [
       "[(0.97081362416015, 0.18274936167444744, 0.18274936167444744),\n",
       " (0.5150038249724239, 0.9825694750595506, 0.04743817488529678),\n",
       " (0.05284859420009258, 0.9898712655750596, 0.9898712655750598),\n",
       " (0.5898646319559155, 0.18061308630522832, 0.9991161776066034)]"
      ]
     },
     "execution_count": 15,
     "metadata": {},
     "output_type": "execute_result"
    }
   ],
   "source": [
    "cols"
   ]
  },
  {
   "cell_type": "code",
   "execution_count": null,
   "metadata": {},
   "outputs": [],
   "source": []
  }
 ],
 "metadata": {
  "kernelspec": {
   "display_name": "Python 3",
   "language": "python",
   "name": "python3"
  },
  "language_info": {
   "codemirror_mode": {
    "name": "ipython",
    "version": 3
   },
   "file_extension": ".py",
   "mimetype": "text/x-python",
   "name": "python",
   "nbconvert_exporter": "python",
   "pygments_lexer": "ipython3",
   "version": "3.7.9"
  }
 },
 "nbformat": 4,
 "nbformat_minor": 4
}
