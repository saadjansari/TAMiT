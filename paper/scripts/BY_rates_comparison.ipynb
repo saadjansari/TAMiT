{
 "cells": [
  {
   "cell_type": "code",
   "execution_count": 9,
   "metadata": {},
   "outputs": [],
   "source": [
    "from pathlib import Path\n",
    "from matplotlib import pyplot as plt\n",
    "import numpy as np\n",
    "import scipy.io as spio\n",
    "import random\n",
    "import pandas as pd\n",
    "import seaborn as sns\n",
    "import numpy as np\n",
    "import colorsys\n",
    "import random\n",
    "\n",
    "SMALL_SIZE = 12\n",
    "MEDIUM_SIZE = 14\n",
    "BIGGER_SIZE = 16\n",
    "plt.rcParams.update({'font.size': 16})\n",
    "\n",
    "# plt.rc('font', size=SMALL_SIZE)          # controls default text sizes\n",
    "# plt.rc('axes', titlesize=SMALL_SIZE)     # fontsize of the axes title\n",
    "# plt.rc('axes', labelsize=SMALL_SIZE)    # fontsize of the x and y labels\n",
    "# plt.rc('xtick', labelsize=SMALL_SIZE)    # fontsize of the tick labels\n",
    "# plt.rc('ytick', labelsize=SMALL_SIZE)    # fontsize of the tick labels\n",
    "# plt.rc('legend', fontsize=SMALL_SIZE)    # legend fontsize\n",
    "# plt.rc('figure', titlesize=BIGGER_SIZE)  # fontsize of the figure title\n",
    "\n",
    "# Get N distinguisable colors\n",
    "def _get_colors(num_colors):\n",
    "    colors=[]\n",
    "    for i in np.arange(0., 360., 360. / num_colors):\n",
    "        hue = i/360.\n",
    "        lightness = (50 + np.random.rand() * 10)/100.\n",
    "        saturation = (90 + np.random.rand() * 10)/100.\n",
    "        colors.append(colorsys.hls_to_rgb(hue, lightness, saturation))\n",
    "    return colors"
   ]
  },
  {
   "cell_type": "code",
   "execution_count": 10,
   "metadata": {},
   "outputs": [],
   "source": [
    "mainpath = Path('/Users/saadjansari/Documents/Projects/ImageAnalysis/SingleCell/Results/Test_fourier3')\n",
    "mainpath.resolve()\n",
    "csv_names = ['exp_polyrate.csv', 'fit_polyrate.csv', 'exp_depolyrate.csv', 'fit_depolyrate.csv']\n",
    "\n",
    "df_poly = pd.DataFrame()\n",
    "df_depoly = pd.DataFrame()\n",
    "\n",
    "df_poly['name'] = ['Hand-Measured','Automated']\n",
    "df_depoly['name'] = ['Hand-Measured','Automated']\n",
    "\n",
    "df_poly['path'] = [ mainpath / relpath for relpath in csv_names[0:2]]\n",
    "df_depoly['path'] = [ mainpath / relpath for relpath in csv_names[2:]]\n",
    "\n",
    "num_data = df_poly.shape[0]\n",
    "# cols = _get_colors(num_data)\n",
    "\n",
    "# for each file, load it\n",
    "data_poly = []\n",
    "data_depoly = []\n",
    "for idx in np.arange(num_data):\n",
    "    data_poly.append( np.genfromtxt(df_poly.path[idx], delimiter=',') )\n",
    "    data_depoly.append( np.genfromtxt(df_depoly.path[idx], delimiter=',') )\n",
    "df_poly['data'] = data_poly\n",
    "df_depoly['data'] = data_depoly"
   ]
  },
  {
   "cell_type": "code",
   "execution_count": 13,
   "metadata": {},
   "outputs": [
    {
     "data": {
      "image/png": "[encoded data removed]",
      "text/plain": [
       "<Figure size 576x216 with 2 Axes>"
      ]
     },
     "metadata": {
      "needs_background": "light"
     },
     "output_type": "display_data"
    }
   ],
   "source": [
    "# Plotting\n",
    "fig,ax = plt.subplots(1,2,figsize=(8,3), sharey=True)\n",
    "meanprops={\"marker\":\"o\",\n",
    "                       \"markerfacecolor\":\"white\", \n",
    "                       \"markeredgecolor\":\"black\",\n",
    "                      \"markersize\":\"8\"}\n",
    "\n",
    "# Polymerization\n",
    "sns.swarmplot(data=df_poly.data, color=\".25\",ax=ax[0],alpha=0.8)\n",
    "sns.boxplot(data=df_poly.data, palette='coolwarm', linewidth=2, \n",
    "                 fliersize=0, ax=ax[0])\n",
    "ax[0].set(\n",
    "    ylabel=r'Speed ($\\mu m / min$)', xlabel='Polymerization')\n",
    "ax[0].set_xticklabels( df_poly.name)\n",
    "\n",
    "# Depolymerization\n",
    "sns.boxplot(data=df_depoly.data, palette='coolwarm', linewidth=2, \n",
    "                 fliersize=0,ax=ax[1])\n",
    "sns.swarmplot(data=df_depoly.data, color=\".25\",ax=ax[1],alpha=0.8)\n",
    "\n",
    "ax[1].set_xticklabels( df_depoly.name)\n",
    "ax[1].set(\n",
    "    xlabel='Depolymerization')\n",
    "\n",
    "ax[0].set(ylim=[-0.1,6.5], yticks=[0,2,4,6])\n",
    "plt.tight_layout()\n",
    "plt.savefig(mainpath / 'by_rates_comparison.pdf')"
   ]
  },
  {
   "cell_type": "code",
   "execution_count": null,
   "metadata": {},
   "outputs": [],
   "source": []
  }
 ],
 "metadata": {
  "kernelspec": {
   "display_name": "Python 3",
   "language": "python",
   "name": "python3"
  },
  "language_info": {
   "codemirror_mode": {
    "name": "ipython",
    "version": 3
   },
   "file_extension": ".py",
   "mimetype": "text/x-python",
   "name": "python",
   "nbconvert_exporter": "python",
   "pygments_lexer": "ipython3",
   "version": "3.7.9"
  }
 },
 "nbformat": 4,
 "nbformat_minor": 4
}
